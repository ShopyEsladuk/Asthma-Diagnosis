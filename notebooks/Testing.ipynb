{
 "cells": [
  {
   "cell_type": "code",
   "execution_count": 1,
   "id": "e59542c3-8df9-4262-8bcb-4be91c387e13",
   "metadata": {},
   "outputs": [],
   "source": [
    "%matplotlib inline"
   ]
  },
  {
   "cell_type": "code",
   "execution_count": 2,
   "id": "1719cba0-1e41-4ba8-ad01-298deac73faa",
   "metadata": {},
   "outputs": [],
   "source": [
    "# Imports\n",
    "import numpy as np\n",
    "import pandas as pd\n",
    "import matplotlib.pyplot as plt"
   ]
  },
  {
   "cell_type": "markdown",
   "id": "13d6217e-a17e-46c2-a02a-e2d597800753",
   "metadata": {},
   "source": [
    "# Testing\n",
    "## Of ```asthma_script.py```\n",
    "\n",
    "In this notebook, we will perform unit tests on the functions of the script created in Problem 6."
   ]
  },
  {
   "cell_type": "code",
   "execution_count": 4,
   "id": "5e0c5f72-c863-480a-a8a4-d001b9cba6c4",
   "metadata": {},
   "outputs": [],
   "source": [
    "# Importing the script\n",
    "import asthma_script"
   ]
  },
  {
   "cell_type": "code",
   "execution_count": 5,
   "id": "594c69ef-1f2f-4619-9253-78de0a2cfb1e",
   "metadata": {},
   "outputs": [
    {
     "data": {
      "text/plain": [
       "['MinMaxScaler',\n",
       " '__builtins__',\n",
       " '__cached__',\n",
       " '__doc__',\n",
       " '__file__',\n",
       " '__loader__',\n",
       " '__name__',\n",
       " '__package__',\n",
       " '__spec__',\n",
       " 'data_cleaning',\n",
       " 'extract_means',\n",
       " 'load_data_from_github',\n",
       " 'main',\n",
       " 'np',\n",
       " 'pd',\n",
       " 're',\n",
       " 'scale_data',\n",
       " 'split_words']"
      ]
     },
     "execution_count": 5,
     "metadata": {},
     "output_type": "execute_result"
    }
   ],
   "source": [
    "dir(asthma_script)"
   ]
  },
  {
   "cell_type": "code",
   "execution_count": 6,
   "id": "92e8aa76-2e21-4796-95a7-0fbe1e70d92c",
   "metadata": {},
   "outputs": [],
   "source": [
    "# Testing load_data_from_github\n",
    "\n",
    "def test_load_data_from_github():\n",
    "    test_data = asthma_script.load_data_from_github(\"Wrong link\")\n",
    "    assert test_data is None"
   ]
  },
  {
   "cell_type": "code",
   "execution_count": 7,
   "id": "bc3480a1-b21e-4c4d-a552-ebe62ae23441",
   "metadata": {},
   "outputs": [
    {
     "name": "stdout",
     "output_type": "stream",
     "text": [
      "Error Loading data [Errno 2] No such file or directory: 'Wrong link'\n"
     ]
    }
   ],
   "source": [
    "test_load_data_from_github()"
   ]
  },
  {
   "cell_type": "code",
   "execution_count": 8,
   "id": "1074a130-822f-4696-812f-107b215cb229",
   "metadata": {},
   "outputs": [],
   "source": [
    "# Testing split_words\n",
    "\n",
    "def test_split_words():\n",
    "    some_words = [\"DataScience\", \"datascience\", \"GitHubRepo\"]\n",
    "    target = [\"Data_Science\", \"datascience\", \"Git_Hub_Repo\"]\n",
    "    result = asthma_script.split_words(some_words)\n",
    "    assert result == target"
   ]
  },
  {
   "cell_type": "code",
   "execution_count": 9,
   "id": "86cba144-935c-4a6c-9ae3-f850fd955a89",
   "metadata": {},
   "outputs": [],
   "source": [
    "test_split_words()"
   ]
  },
  {
   "cell_type": "code",
   "execution_count": 10,
   "id": "bbcbc010-448e-45f6-9e30-a036cffc7890",
   "metadata": {},
   "outputs": [],
   "source": [
    "# Testing data_cleaning\n",
    "\n",
    "def test_data_cleaning():\n",
    "    test_data = pd.read_csv(\"https://raw.githubusercontent.com/ShopyEsladuk/Asthma-Diagnosis/main/data/asthma_disease_data.csv\")\n",
    "    target_data = pd.read_csv(\"https://raw.githubusercontent.com/ShopyEsladuk/Asthma-Diagnosis/main/data/asthma_data_preprocessed.csv\")\n",
    "    target_data = target_data.drop(columns = [\"gender\", \"patient_id\"])\n",
    "    result = asthma_script.data_cleaning(test_data)\n",
    "    \n",
    "    assert np.array_equal(target_data.columns, result.columns)"
   ]
  },
  {
   "cell_type": "code",
   "execution_count": 11,
   "id": "95dd5ea3-7756-48b8-9152-c2b6578b20fb",
   "metadata": {},
   "outputs": [],
   "source": [
    "test_data_cleaning()"
   ]
  },
  {
   "cell_type": "code",
   "execution_count": 12,
   "id": "7e980c8f-af0e-4135-be23-372324167962",
   "metadata": {},
   "outputs": [],
   "source": [
    "# Testing scale_data\n",
    "\n",
    "def test_scale_data():\n",
    "    test_data = pd.DataFrame({\n",
    "    'F1': [20.0, 5, 0],\n",
    "    'F2': [12.0, 12, 0],\n",
    "    'F3': [0, 0.5, 1]\n",
    "    })\n",
    "    target_data = pd.DataFrame({\n",
    "    'F1': [1, 0.25, 0],\n",
    "    'F2': [1.0, 1, 0],\n",
    "    'F3': [0, 0.5, 1]\n",
    "    })\n",
    "\n",
    "    result = asthma_script.scale_data(test_data)\n",
    "    assert result.equals(target_data)"
   ]
  },
  {
   "cell_type": "code",
   "execution_count": 13,
   "id": "b54e8e70-177f-4964-bd17-6e5332637cea",
   "metadata": {},
   "outputs": [],
   "source": [
    "test_scale_data()"
   ]
  },
  {
   "cell_type": "code",
   "execution_count": 14,
   "id": "349592ca-fa01-41bd-8cab-29b27c921c9c",
   "metadata": {},
   "outputs": [],
   "source": [
    "# Testing extract_mean\n",
    "\n",
    "def test_extract_mean():\n",
    "    test_data = pd.DataFrame({\n",
    "    'F1': [1, 1, 0, 0, 1, 0],\n",
    "    'F2': [1, 1, 1, 1, 1, 1],\n",
    "    'F3': [1, 1, 1, 0, 0, 0],\n",
    "    'diagnosis': [1, 1, 1, 1, 0, 0]\n",
    "    })\n",
    "    target_data = pd.DataFrame({\n",
    "    \"mean_positive\": [0.5, 1, 0.75],\n",
    "    \"mean_negative\": [0.5, 1, 0],\n",
    "    \"difference\": [0, 0, 0.75]\n",
    "    }, \n",
    "    index = [\"F1\", \"F2\", \"F3\"]\n",
    "    )\n",
    "    target_data = target_data.sort_values(\"mean_positive\", ascending = False)\n",
    "    result = asthma_script.extract_means(test_data)\n",
    "    \n",
    "    assert result.equals(target_data)"
   ]
  },
  {
   "cell_type": "code",
   "execution_count": 15,
   "id": "7a5eefa0-0c5d-4e61-8da1-4983160d0e31",
   "metadata": {},
   "outputs": [],
   "source": [
    "test_extract_mean()"
   ]
  }
 ],
 "metadata": {
  "kernelspec": {
   "display_name": "Python 3 (ipykernel)",
   "language": "python",
   "name": "python3"
  },
  "language_info": {
   "codemirror_mode": {
    "name": "ipython",
    "version": 3
   },
   "file_extension": ".py",
   "mimetype": "text/x-python",
   "name": "python",
   "nbconvert_exporter": "python",
   "pygments_lexer": "ipython3",
   "version": "3.11.5"
  }
 },
 "nbformat": 4,
 "nbformat_minor": 5
}
