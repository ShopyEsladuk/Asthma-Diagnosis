{
 "cells": [
  {
   "cell_type": "code",
   "execution_count": 1,
   "id": "3b8a6025-ace4-4950-b487-e96d7165de33",
   "metadata": {},
   "outputs": [],
   "source": [
    "%matplotlib inline"
   ]
  },
  {
   "cell_type": "code",
   "execution_count": 37,
   "id": "a8714a12-c4d1-40c2-935a-cdcecffb6563",
   "metadata": {},
   "outputs": [],
   "source": [
    "# Imports\n",
    "import numpy as np\n",
    "import pandas as pd\n",
    "import matplotlib.pyplot as plt\n",
    "import re"
   ]
  },
  {
   "cell_type": "markdown",
   "id": "936ec23c-6615-403f-ad1b-b3f910dc698e",
   "metadata": {},
   "source": [
    "# Data Cleaning and Preprocessing and EDA\n",
    "\n",
    "## Of Asthma Disease Dataset\n",
    "\n",
    "In this notebook, we will preprocess the data we have already got familiar with in the 'Data Exploration' notebook.  "
   ]
  },
  {
   "cell_type": "markdown",
   "id": "40a9fca4-abe4-4e44-9fae-d660a34a48a5",
   "metadata": {},
   "source": [
    "## 1. Data Cleaning and Preprocessing"
   ]
  },
  {
   "cell_type": "markdown",
   "id": "2311ac97-71bc-4f0e-af55-5af381ea48d5",
   "metadata": {},
   "source": [
    "Here's the information about the dataset:\n",
    "\n",
    "### Patient Information\n",
    "#### Patient ID\n",
    "PatientID: A unique identifier assigned to each patient (5034 to 7425).\n",
    "#### Demographic Details\n",
    "Age: The age of the patients ranges from 5 to 80 years.\n",
    "\n",
    "Gender: Gender of the patients, where 0 represents Male and 1 represents Female.\n",
    "\n",
    "Ethnicity: The ethnicity of the patients, coded as follows:\n",
    "\n",
    "0: Caucasian\n",
    "\n",
    "1: African American\n",
    "\n",
    "2: Asian\n",
    "\n",
    "3: Other\n",
    "\n",
    "EducationLevel: The education level of the patients, coded as follows:\n",
    "\n",
    "0: None\n",
    "\n",
    "1: High School\n",
    "\n",
    "2: Bachelor's\n",
    "\n",
    "3: Higher\n",
    "\n",
    "#### Lifestyle Factors\n",
    "BMI: Body Mass Index of the patients, ranging from 15 to 40.\n",
    "\n",
    "Smoking: Smoking status, where 0 indicates No and 1 indicates Yes.\n",
    "\n",
    "PhysicalActivity: Weekly physical activity in hours, ranging from 0 to 10.\n",
    "\n",
    "DietQuality: Diet quality score, ranging from 0 to 10.\n",
    "\n",
    "SleepQuality: Sleep quality score, ranging from 4 to 10.\n",
    "\n",
    "#### Environmental and Allergy Factors\n",
    "PollutionExposure: Exposure to pollution, score from 0 to 10.\n",
    "\n",
    "PollenExposure: Exposure to pollen, score from 0 to 10.\n",
    "\n",
    "DustExposure: Exposure to dust, score from 0 to 10.\n",
    "\n",
    "PetAllergy: Pet allergy status, where 0 indicates No and 1 indicates Yes.\n",
    "\n",
    "#### Medical History\n",
    "FamilyHistoryAsthma: Family history of asthma, where 0 indicates No and 1 indicates Yes.\n",
    "\n",
    "HistoryOfAllergies: History of allergies, where 0 indicates No and 1 indicates Yes.\n",
    "\n",
    "Eczema: Presence of eczema, where 0 indicates No and 1 indicates Yes.\n",
    "\n",
    "HayFever: Presence of hay fever, where 0 indicates No and 1 indicates Yes.\n",
    "\n",
    "GastroesophagealReflux: Presence of gastroesophageal reflux, where 0 indicates No and 1 indicates Yes.\n",
    "#### Clinical Measurements\n",
    "LungFunctionFEV1: Forced Expiratory Volume in 1 second (FEV1), ranging from 1.0 to 4.0 liters.\n",
    "\n",
    "LungFunctionFVC: Forced Vital Capacity (FVC), ranging from 1.5 to 6.0 liters.\n",
    "\n",
    "#### Symptoms\n",
    "Wheezing: Presence of wheezing, where 0 indicates No and 1 indicates Yes.\n",
    "\n",
    "ShortnessOfBreath: Presence of shortness of breath, where 0 indicates No and 1 indicates Yes.\n",
    "\n",
    "ChestTightness: Presence of chest tightness, where 0 indicates No and 1 indicates Yes.\n",
    "\n",
    "Coughing: Presence of coughing, where 0 indicates No and 1 indicates Yes.\n",
    "\n",
    "NighttimeSymptoms: Presence of nighttime symptoms, where 0 indicates No and 1 indicates Yes.\n",
    "\n",
    "ExerciseInduced: Presence of symptoms induced by exercise, where 0 indicates No and 1 indicates Yes.\n",
    "#### Diagnosis Information\n",
    "Diagnosis: Diagnosis status for Asthma, where 0 indicates No and 1 indicates Yes."
   ]
  },
  {
   "cell_type": "code",
   "execution_count": 11,
   "id": "7f4fc328-1ce1-49d6-83ae-241ed4b824b9",
   "metadata": {},
   "outputs": [],
   "source": [
    "asthma_data = pd.read_csv(\"https://raw.githubusercontent.com/ShopyEsladuk/Asthma-Diagnosis/main/data/asthma_disease_data.csv\")"
   ]
  },
  {
   "cell_type": "code",
   "execution_count": 15,
   "id": "682f98a6-9ad4-4419-9eb4-7774e86bcd39",
   "metadata": {},
   "outputs": [
    {
     "data": {
      "text/plain": [
       "Index(['PatientID', 'Age', 'Gender', 'Ethnicity', 'EducationLevel', 'BMI',\n",
       "       'Smoking', 'PhysicalActivity', 'DietQuality', 'SleepQuality',\n",
       "       'PollutionExposure', 'PollenExposure', 'DustExposure', 'PetAllergy',\n",
       "       'FamilyHistoryAsthma', 'HistoryOfAllergies', 'Eczema', 'HayFever',\n",
       "       'GastroesophagealReflux', 'LungFunctionFEV1', 'LungFunctionFVC',\n",
       "       'Wheezing', 'ShortnessOfBreath', 'ChestTightness', 'Coughing',\n",
       "       'NighttimeSymptoms', 'ExerciseInduced', 'Diagnosis', 'DoctorInCharge'],\n",
       "      dtype='object')"
      ]
     },
     "execution_count": 15,
     "metadata": {},
     "output_type": "execute_result"
    }
   ],
   "source": [
    "asthma_data.columns"
   ]
  },
  {
   "cell_type": "code",
   "execution_count": 17,
   "id": "4f1ff70c-76b6-4343-8495-2728543bf30b",
   "metadata": {},
   "outputs": [
    {
     "data": {
      "text/plain": [
       "array(['Dr_Confid'], dtype=object)"
      ]
     },
     "execution_count": 17,
     "metadata": {},
     "output_type": "execute_result"
    }
   ],
   "source": [
    "asthma_data.DoctorInCharge.unique()"
   ]
  },
  {
   "cell_type": "code",
   "execution_count": 104,
   "id": "1e8cee11-dc86-414c-97a8-c3740a69b0c7",
   "metadata": {},
   "outputs": [],
   "source": [
    "# Only one value is not useful\n",
    "asthma_data_preprocessed = asthma_data.drop(columns = [\"DoctorInCharge\"])"
   ]
  },
  {
   "cell_type": "code",
   "execution_count": 93,
   "id": "59a490ed-2231-48c3-8cf5-5cc545181b8a",
   "metadata": {},
   "outputs": [
    {
     "data": {
      "text/plain": [
       "PatientID                   int64\n",
       "Age                         int64\n",
       "Gender                      int64\n",
       "Ethnicity                   int64\n",
       "EducationLevel              int64\n",
       "BMI                       float64\n",
       "Smoking                     int64\n",
       "PhysicalActivity          float64\n",
       "DietQuality               float64\n",
       "SleepQuality              float64\n",
       "PollutionExposure         float64\n",
       "PollenExposure            float64\n",
       "DustExposure              float64\n",
       "PetAllergy                  int64\n",
       "FamilyHistoryAsthma         int64\n",
       "HistoryOfAllergies          int64\n",
       "Eczema                      int64\n",
       "HayFever                    int64\n",
       "GastroesophagealReflux      int64\n",
       "LungFunctionFEV1          float64\n",
       "LungFunctionFVC           float64\n",
       "Wheezing                    int64\n",
       "ShortnessOfBreath           int64\n",
       "ChestTightness              int64\n",
       "Coughing                    int64\n",
       "NighttimeSymptoms           int64\n",
       "ExerciseInduced             int64\n",
       "Diagnosis                   int64\n",
       "dtype: object"
      ]
     },
     "execution_count": 93,
     "metadata": {},
     "output_type": "execute_result"
    }
   ],
   "source": [
    "asthma_data_preprocessed.dtypes"
   ]
  },
  {
   "cell_type": "markdown",
   "id": "d2af7ffb-2c8f-44e1-ba9f-e2c9d84f26a3",
   "metadata": {},
   "source": [
    "The dtypes LGTM. Especially considering the fact we need only floating points in Problem 5. Now we will see if there are any outliers, missing or wrong data based on the description of the dataset."
   ]
  },
  {
   "cell_type": "code",
   "execution_count": 115,
   "id": "15fa4119-43c5-4536-8737-40e527de9296",
   "metadata": {},
   "outputs": [
    {
     "data": {
      "text/html": [
       "<div>\n",
       "<style scoped>\n",
       "    .dataframe tbody tr th:only-of-type {\n",
       "        vertical-align: middle;\n",
       "    }\n",
       "\n",
       "    .dataframe tbody tr th {\n",
       "        vertical-align: top;\n",
       "    }\n",
       "\n",
       "    .dataframe thead th {\n",
       "        text-align: right;\n",
       "    }\n",
       "</style>\n",
       "<table border=\"1\" class=\"dataframe\">\n",
       "  <thead>\n",
       "    <tr style=\"text-align: right;\">\n",
       "      <th></th>\n",
       "      <th>count</th>\n",
       "      <th>mean</th>\n",
       "      <th>std</th>\n",
       "      <th>min</th>\n",
       "      <th>25%</th>\n",
       "      <th>50%</th>\n",
       "      <th>75%</th>\n",
       "      <th>max</th>\n",
       "    </tr>\n",
       "  </thead>\n",
       "  <tbody>\n",
       "    <tr>\n",
       "      <th>PatientID</th>\n",
       "      <td>2392.0</td>\n",
       "      <td>6229.500000</td>\n",
       "      <td>690.655244</td>\n",
       "      <td>5034.000000</td>\n",
       "      <td>5631.750000</td>\n",
       "      <td>6229.500000</td>\n",
       "      <td>6827.250000</td>\n",
       "      <td>7425.000000</td>\n",
       "    </tr>\n",
       "    <tr>\n",
       "      <th>Age</th>\n",
       "      <td>2392.0</td>\n",
       "      <td>42.137960</td>\n",
       "      <td>21.606655</td>\n",
       "      <td>5.000000</td>\n",
       "      <td>23.000000</td>\n",
       "      <td>42.000000</td>\n",
       "      <td>61.000000</td>\n",
       "      <td>79.000000</td>\n",
       "    </tr>\n",
       "    <tr>\n",
       "      <th>Gender</th>\n",
       "      <td>2392.0</td>\n",
       "      <td>0.493311</td>\n",
       "      <td>0.500060</td>\n",
       "      <td>0.000000</td>\n",
       "      <td>0.000000</td>\n",
       "      <td>0.000000</td>\n",
       "      <td>1.000000</td>\n",
       "      <td>1.000000</td>\n",
       "    </tr>\n",
       "    <tr>\n",
       "      <th>Ethnicity</th>\n",
       "      <td>2392.0</td>\n",
       "      <td>0.669732</td>\n",
       "      <td>0.986120</td>\n",
       "      <td>0.000000</td>\n",
       "      <td>0.000000</td>\n",
       "      <td>0.000000</td>\n",
       "      <td>1.000000</td>\n",
       "      <td>3.000000</td>\n",
       "    </tr>\n",
       "    <tr>\n",
       "      <th>EducationLevel</th>\n",
       "      <td>2392.0</td>\n",
       "      <td>1.307274</td>\n",
       "      <td>0.898242</td>\n",
       "      <td>0.000000</td>\n",
       "      <td>1.000000</td>\n",
       "      <td>1.000000</td>\n",
       "      <td>2.000000</td>\n",
       "      <td>3.000000</td>\n",
       "    </tr>\n",
       "    <tr>\n",
       "      <th>BMI</th>\n",
       "      <td>2392.0</td>\n",
       "      <td>27.244877</td>\n",
       "      <td>7.201628</td>\n",
       "      <td>15.031803</td>\n",
       "      <td>20.968313</td>\n",
       "      <td>27.052202</td>\n",
       "      <td>33.555903</td>\n",
       "      <td>39.985611</td>\n",
       "    </tr>\n",
       "    <tr>\n",
       "      <th>Smoking</th>\n",
       "      <td>2392.0</td>\n",
       "      <td>0.141722</td>\n",
       "      <td>0.348838</td>\n",
       "      <td>0.000000</td>\n",
       "      <td>0.000000</td>\n",
       "      <td>0.000000</td>\n",
       "      <td>0.000000</td>\n",
       "      <td>1.000000</td>\n",
       "    </tr>\n",
       "    <tr>\n",
       "      <th>PhysicalActivity</th>\n",
       "      <td>2392.0</td>\n",
       "      <td>5.051786</td>\n",
       "      <td>2.903574</td>\n",
       "      <td>0.001740</td>\n",
       "      <td>2.578333</td>\n",
       "      <td>5.016881</td>\n",
       "      <td>7.540234</td>\n",
       "      <td>9.995809</td>\n",
       "    </tr>\n",
       "    <tr>\n",
       "      <th>DietQuality</th>\n",
       "      <td>2392.0</td>\n",
       "      <td>5.022867</td>\n",
       "      <td>2.909980</td>\n",
       "      <td>0.003031</td>\n",
       "      <td>2.432043</td>\n",
       "      <td>5.115383</td>\n",
       "      <td>7.544216</td>\n",
       "      <td>9.999904</td>\n",
       "    </tr>\n",
       "    <tr>\n",
       "      <th>SleepQuality</th>\n",
       "      <td>2392.0</td>\n",
       "      <td>7.019012</td>\n",
       "      <td>1.732475</td>\n",
       "      <td>4.001437</td>\n",
       "      <td>5.498500</td>\n",
       "      <td>6.975839</td>\n",
       "      <td>8.526950</td>\n",
       "      <td>9.996235</td>\n",
       "    </tr>\n",
       "    <tr>\n",
       "      <th>PollutionExposure</th>\n",
       "      <td>2392.0</td>\n",
       "      <td>5.013030</td>\n",
       "      <td>2.935605</td>\n",
       "      <td>0.001022</td>\n",
       "      <td>2.432559</td>\n",
       "      <td>5.036519</td>\n",
       "      <td>7.630037</td>\n",
       "      <td>9.998964</td>\n",
       "    </tr>\n",
       "    <tr>\n",
       "      <th>PollenExposure</th>\n",
       "      <td>2392.0</td>\n",
       "      <td>5.114221</td>\n",
       "      <td>2.893088</td>\n",
       "      <td>0.000659</td>\n",
       "      <td>2.599996</td>\n",
       "      <td>5.098452</td>\n",
       "      <td>7.708836</td>\n",
       "      <td>9.999555</td>\n",
       "    </tr>\n",
       "    <tr>\n",
       "      <th>DustExposure</th>\n",
       "      <td>2392.0</td>\n",
       "      <td>4.981864</td>\n",
       "      <td>2.859192</td>\n",
       "      <td>0.002434</td>\n",
       "      <td>2.467489</td>\n",
       "      <td>4.903278</td>\n",
       "      <td>7.432218</td>\n",
       "      <td>9.999708</td>\n",
       "    </tr>\n",
       "    <tr>\n",
       "      <th>PetAllergy</th>\n",
       "      <td>2392.0</td>\n",
       "      <td>0.165970</td>\n",
       "      <td>0.372131</td>\n",
       "      <td>0.000000</td>\n",
       "      <td>0.000000</td>\n",
       "      <td>0.000000</td>\n",
       "      <td>0.000000</td>\n",
       "      <td>1.000000</td>\n",
       "    </tr>\n",
       "    <tr>\n",
       "      <th>FamilyHistoryAsthma</th>\n",
       "      <td>2392.0</td>\n",
       "      <td>0.301003</td>\n",
       "      <td>0.458790</td>\n",
       "      <td>0.000000</td>\n",
       "      <td>0.000000</td>\n",
       "      <td>0.000000</td>\n",
       "      <td>1.000000</td>\n",
       "      <td>1.000000</td>\n",
       "    </tr>\n",
       "    <tr>\n",
       "      <th>HistoryOfAllergies</th>\n",
       "      <td>2392.0</td>\n",
       "      <td>0.399247</td>\n",
       "      <td>0.489846</td>\n",
       "      <td>0.000000</td>\n",
       "      <td>0.000000</td>\n",
       "      <td>0.000000</td>\n",
       "      <td>1.000000</td>\n",
       "      <td>1.000000</td>\n",
       "    </tr>\n",
       "    <tr>\n",
       "      <th>Eczema</th>\n",
       "      <td>2392.0</td>\n",
       "      <td>0.191890</td>\n",
       "      <td>0.393869</td>\n",
       "      <td>0.000000</td>\n",
       "      <td>0.000000</td>\n",
       "      <td>0.000000</td>\n",
       "      <td>0.000000</td>\n",
       "      <td>1.000000</td>\n",
       "    </tr>\n",
       "    <tr>\n",
       "      <th>HayFever</th>\n",
       "      <td>2392.0</td>\n",
       "      <td>0.253344</td>\n",
       "      <td>0.435017</td>\n",
       "      <td>0.000000</td>\n",
       "      <td>0.000000</td>\n",
       "      <td>0.000000</td>\n",
       "      <td>1.000000</td>\n",
       "      <td>1.000000</td>\n",
       "    </tr>\n",
       "    <tr>\n",
       "      <th>GastroesophagealReflux</th>\n",
       "      <td>2392.0</td>\n",
       "      <td>0.158027</td>\n",
       "      <td>0.364842</td>\n",
       "      <td>0.000000</td>\n",
       "      <td>0.000000</td>\n",
       "      <td>0.000000</td>\n",
       "      <td>0.000000</td>\n",
       "      <td>1.000000</td>\n",
       "    </tr>\n",
       "    <tr>\n",
       "      <th>LungFunctionFEV1</th>\n",
       "      <td>2392.0</td>\n",
       "      <td>2.548564</td>\n",
       "      <td>0.861809</td>\n",
       "      <td>1.000459</td>\n",
       "      <td>1.824113</td>\n",
       "      <td>2.553244</td>\n",
       "      <td>3.292897</td>\n",
       "      <td>3.999719</td>\n",
       "    </tr>\n",
       "    <tr>\n",
       "      <th>LungFunctionFVC</th>\n",
       "      <td>2392.0</td>\n",
       "      <td>3.741270</td>\n",
       "      <td>1.303689</td>\n",
       "      <td>1.500045</td>\n",
       "      <td>2.607489</td>\n",
       "      <td>3.734982</td>\n",
       "      <td>4.864121</td>\n",
       "      <td>5.999421</td>\n",
       "    </tr>\n",
       "    <tr>\n",
       "      <th>Wheezing</th>\n",
       "      <td>2392.0</td>\n",
       "      <td>0.596154</td>\n",
       "      <td>0.490770</td>\n",
       "      <td>0.000000</td>\n",
       "      <td>0.000000</td>\n",
       "      <td>1.000000</td>\n",
       "      <td>1.000000</td>\n",
       "      <td>1.000000</td>\n",
       "    </tr>\n",
       "    <tr>\n",
       "      <th>ShortnessOfBreath</th>\n",
       "      <td>2392.0</td>\n",
       "      <td>0.500418</td>\n",
       "      <td>0.500104</td>\n",
       "      <td>0.000000</td>\n",
       "      <td>0.000000</td>\n",
       "      <td>1.000000</td>\n",
       "      <td>1.000000</td>\n",
       "      <td>1.000000</td>\n",
       "    </tr>\n",
       "    <tr>\n",
       "      <th>ChestTightness</th>\n",
       "      <td>2392.0</td>\n",
       "      <td>0.503344</td>\n",
       "      <td>0.500093</td>\n",
       "      <td>0.000000</td>\n",
       "      <td>0.000000</td>\n",
       "      <td>1.000000</td>\n",
       "      <td>1.000000</td>\n",
       "      <td>1.000000</td>\n",
       "    </tr>\n",
       "    <tr>\n",
       "      <th>Coughing</th>\n",
       "      <td>2392.0</td>\n",
       "      <td>0.503344</td>\n",
       "      <td>0.500093</td>\n",
       "      <td>0.000000</td>\n",
       "      <td>0.000000</td>\n",
       "      <td>1.000000</td>\n",
       "      <td>1.000000</td>\n",
       "      <td>1.000000</td>\n",
       "    </tr>\n",
       "    <tr>\n",
       "      <th>NighttimeSymptoms</th>\n",
       "      <td>2392.0</td>\n",
       "      <td>0.602425</td>\n",
       "      <td>0.489499</td>\n",
       "      <td>0.000000</td>\n",
       "      <td>0.000000</td>\n",
       "      <td>1.000000</td>\n",
       "      <td>1.000000</td>\n",
       "      <td>1.000000</td>\n",
       "    </tr>\n",
       "    <tr>\n",
       "      <th>ExerciseInduced</th>\n",
       "      <td>2392.0</td>\n",
       "      <td>0.604933</td>\n",
       "      <td>0.488967</td>\n",
       "      <td>0.000000</td>\n",
       "      <td>0.000000</td>\n",
       "      <td>1.000000</td>\n",
       "      <td>1.000000</td>\n",
       "      <td>1.000000</td>\n",
       "    </tr>\n",
       "    <tr>\n",
       "      <th>Diagnosis</th>\n",
       "      <td>2392.0</td>\n",
       "      <td>0.051839</td>\n",
       "      <td>0.221749</td>\n",
       "      <td>0.000000</td>\n",
       "      <td>0.000000</td>\n",
       "      <td>0.000000</td>\n",
       "      <td>0.000000</td>\n",
       "      <td>1.000000</td>\n",
       "    </tr>\n",
       "  </tbody>\n",
       "</table>\n",
       "</div>"
      ],
      "text/plain": [
       "                         count         mean         std          min  \\\n",
       "PatientID               2392.0  6229.500000  690.655244  5034.000000   \n",
       "Age                     2392.0    42.137960   21.606655     5.000000   \n",
       "Gender                  2392.0     0.493311    0.500060     0.000000   \n",
       "Ethnicity               2392.0     0.669732    0.986120     0.000000   \n",
       "EducationLevel          2392.0     1.307274    0.898242     0.000000   \n",
       "BMI                     2392.0    27.244877    7.201628    15.031803   \n",
       "Smoking                 2392.0     0.141722    0.348838     0.000000   \n",
       "PhysicalActivity        2392.0     5.051786    2.903574     0.001740   \n",
       "DietQuality             2392.0     5.022867    2.909980     0.003031   \n",
       "SleepQuality            2392.0     7.019012    1.732475     4.001437   \n",
       "PollutionExposure       2392.0     5.013030    2.935605     0.001022   \n",
       "PollenExposure          2392.0     5.114221    2.893088     0.000659   \n",
       "DustExposure            2392.0     4.981864    2.859192     0.002434   \n",
       "PetAllergy              2392.0     0.165970    0.372131     0.000000   \n",
       "FamilyHistoryAsthma     2392.0     0.301003    0.458790     0.000000   \n",
       "HistoryOfAllergies      2392.0     0.399247    0.489846     0.000000   \n",
       "Eczema                  2392.0     0.191890    0.393869     0.000000   \n",
       "HayFever                2392.0     0.253344    0.435017     0.000000   \n",
       "GastroesophagealReflux  2392.0     0.158027    0.364842     0.000000   \n",
       "LungFunctionFEV1        2392.0     2.548564    0.861809     1.000459   \n",
       "LungFunctionFVC         2392.0     3.741270    1.303689     1.500045   \n",
       "Wheezing                2392.0     0.596154    0.490770     0.000000   \n",
       "ShortnessOfBreath       2392.0     0.500418    0.500104     0.000000   \n",
       "ChestTightness          2392.0     0.503344    0.500093     0.000000   \n",
       "Coughing                2392.0     0.503344    0.500093     0.000000   \n",
       "NighttimeSymptoms       2392.0     0.602425    0.489499     0.000000   \n",
       "ExerciseInduced         2392.0     0.604933    0.488967     0.000000   \n",
       "Diagnosis               2392.0     0.051839    0.221749     0.000000   \n",
       "\n",
       "                                25%          50%          75%          max  \n",
       "PatientID               5631.750000  6229.500000  6827.250000  7425.000000  \n",
       "Age                       23.000000    42.000000    61.000000    79.000000  \n",
       "Gender                     0.000000     0.000000     1.000000     1.000000  \n",
       "Ethnicity                  0.000000     0.000000     1.000000     3.000000  \n",
       "EducationLevel             1.000000     1.000000     2.000000     3.000000  \n",
       "BMI                       20.968313    27.052202    33.555903    39.985611  \n",
       "Smoking                    0.000000     0.000000     0.000000     1.000000  \n",
       "PhysicalActivity           2.578333     5.016881     7.540234     9.995809  \n",
       "DietQuality                2.432043     5.115383     7.544216     9.999904  \n",
       "SleepQuality               5.498500     6.975839     8.526950     9.996235  \n",
       "PollutionExposure          2.432559     5.036519     7.630037     9.998964  \n",
       "PollenExposure             2.599996     5.098452     7.708836     9.999555  \n",
       "DustExposure               2.467489     4.903278     7.432218     9.999708  \n",
       "PetAllergy                 0.000000     0.000000     0.000000     1.000000  \n",
       "FamilyHistoryAsthma        0.000000     0.000000     1.000000     1.000000  \n",
       "HistoryOfAllergies         0.000000     0.000000     1.000000     1.000000  \n",
       "Eczema                     0.000000     0.000000     0.000000     1.000000  \n",
       "HayFever                   0.000000     0.000000     1.000000     1.000000  \n",
       "GastroesophagealReflux     0.000000     0.000000     0.000000     1.000000  \n",
       "LungFunctionFEV1           1.824113     2.553244     3.292897     3.999719  \n",
       "LungFunctionFVC            2.607489     3.734982     4.864121     5.999421  \n",
       "Wheezing                   0.000000     1.000000     1.000000     1.000000  \n",
       "ShortnessOfBreath          0.000000     1.000000     1.000000     1.000000  \n",
       "ChestTightness             0.000000     1.000000     1.000000     1.000000  \n",
       "Coughing                   0.000000     1.000000     1.000000     1.000000  \n",
       "NighttimeSymptoms          0.000000     1.000000     1.000000     1.000000  \n",
       "ExerciseInduced            0.000000     1.000000     1.000000     1.000000  \n",
       "Diagnosis                  0.000000     0.000000     0.000000     1.000000  "
      ]
     },
     "execution_count": 115,
     "metadata": {},
     "output_type": "execute_result"
    }
   ],
   "source": [
    "asthma_data_preprocessed.describe().T"
   ]
  },
  {
   "cell_type": "markdown",
   "id": "d7f46774-265f-46fa-8716-45b29d8b83e8",
   "metadata": {},
   "source": [
    "I cannot spot any outliers as of now."
   ]
  },
  {
   "cell_type": "code",
   "execution_count": 127,
   "id": "44574fee-344f-4f96-a54e-91897d7456e9",
   "metadata": {},
   "outputs": [],
   "source": [
    "# column names preprocessing\n",
    "\n",
    "def split_words(column):\n",
    "    return \"_\".join(re.findall(r'[A-Z][^A-Z]*', column))"
   ]
  },
  {
   "cell_type": "code",
   "execution_count": 131,
   "id": "a94a74ed-c3b2-4a9d-899b-cc41ebe0a2c9",
   "metadata": {},
   "outputs": [],
   "source": [
    "asthma_data_preprocessed.columns = [split_words(column) for column in asthma_data_preprocessed.columns]"
   ]
  },
  {
   "cell_type": "code",
   "execution_count": 137,
   "id": "254d85d9-2211-41d4-97f2-03a49990571d",
   "metadata": {},
   "outputs": [],
   "source": [
    "asthma_data_preprocessed.columns = asthma_data_preprocessed.columns.str.lower()"
   ]
  },
  {
   "cell_type": "code",
   "execution_count": 139,
   "id": "c0c71fdc-cb39-4e9d-964e-fe26546701f0",
   "metadata": {},
   "outputs": [
    {
     "data": {
      "text/plain": [
       "Index(['patient_i_d', 'age', 'gender', 'ethnicity', 'education_level', 'b_m_i',\n",
       "       'smoking', 'physical_activity', 'diet_quality', 'sleep_quality',\n",
       "       'pollution_exposure', 'pollen_exposure', 'dust_exposure', 'pet_allergy',\n",
       "       'family_history_asthma', 'history_of_allergies', 'eczema', 'hay_fever',\n",
       "       'gastroesophageal_reflux', 'lung_function_f_e_v1',\n",
       "       'lung_function_f_v_c', 'wheezing', 'shortness_of_breath',\n",
       "       'chest_tightness', 'coughing', 'nighttime_symptoms', 'exercise_induced',\n",
       "       'diagnosis'],\n",
       "      dtype='object')"
      ]
     },
     "execution_count": 139,
     "metadata": {},
     "output_type": "execute_result"
    }
   ],
   "source": [
    "asthma_data_preprocessed.columns"
   ]
  },
  {
   "cell_type": "code",
   "execution_count": 143,
   "id": "97e94397-17dd-4a2a-81bd-8edd0581adc7",
   "metadata": {},
   "outputs": [],
   "source": [
    "asthma_data_preprocessed = asthma_data_preprocessed.rename(\n",
    "    columns = {\n",
    "        \"patient_i_d\" : \"patient_id\",\n",
    "        'b_m_i' : 'bmi',\n",
    "        'lung_function_f_e_v1' : 'lung_function_fev1',\n",
    "        'lung_function_f_v_c' : 'lung_function_fvc',\n",
    "    }\n",
    ")"
   ]
  },
  {
   "cell_type": "code",
   "execution_count": 151,
   "id": "4ef1742d-fdc6-4059-8387-2899c4d3a4d3",
   "metadata": {},
   "outputs": [
    {
     "data": {
      "text/plain": [
       "Index(['patient_id', 'age', 'gender', 'ethnicity', 'education_level', 'bmi',\n",
       "       'smoking', 'physical_activity', 'diet_quality', 'sleep_quality',\n",
       "       'pollution_exposure', 'pollen_exposure', 'dust_exposure', 'pet_allergy',\n",
       "       'family_history_asthma', 'history_of_allergies', 'eczema', 'hay_fever',\n",
       "       'gastroesophageal_reflux', 'lung_function_fev1', 'lung_function_fvc',\n",
       "       'wheezing', 'shortness_of_breath', 'chest_tightness', 'coughing',\n",
       "       'nighttime_symptoms', 'exercise_induced', 'diagnosis'],\n",
       "      dtype='object')"
      ]
     },
     "execution_count": 151,
     "metadata": {},
     "output_type": "execute_result"
    }
   ],
   "source": [
    "asthma_data_preprocessed.columns"
   ]
  },
  {
   "cell_type": "markdown",
   "id": "8ebeaa6f-4936-4f25-8075-70439371fe5a",
   "metadata": {},
   "source": [
    "## 2. EDA"
   ]
  },
  {
   "cell_type": "code",
   "execution_count": 178,
   "id": "4379224d-4244-4a41-a16b-dd78d096f681",
   "metadata": {},
   "outputs": [
    {
     "data": {
      "image/png": "[encoded data removed]",
      "text/plain": [
       "<Figure size 640x480 with 1 Axes>"
      ]
     },
     "metadata": {},
     "output_type": "display_data"
    }
   ],
   "source": [
    "plt.hist(asthma_data_preprocessed.age, bins = 20)\n",
    "plt.title(\"Patients by age\")\n",
    "plt.ylabel(\"Count\")\n",
    "plt.xlabel(\"Age\")\n",
    "plt.show()"
   ]
  },
  {
   "cell_type": "markdown",
   "id": "3f328882-ab17-4163-85d0-597439533285",
   "metadata": {},
   "source": [
    "The dataset is, let's say, evenly distributed when it comes to ages. What I mean, there are too many young, mid-age, or old patients."
   ]
  },
  {
   "cell_type": "code",
   "execution_count": 164,
   "id": "d85a1fd7-a0cb-4fd0-a35d-1bdd7b890ffb",
   "metadata": {},
   "outputs": [
    {
     "data": {
      "text/plain": [
       "gender\n",
       "0    1212\n",
       "1    1180\n",
       "Name: count, dtype: int64"
      ]
     },
     "execution_count": 164,
     "metadata": {},
     "output_type": "execute_result"
    }
   ],
   "source": [
    "asthma_data_preprocessed.gender.value_counts()"
   ]
  },
  {
   "cell_type": "markdown",
   "id": "d5f3ee5a-1de6-4142-b5e1-726abf3529b9",
   "metadata": {},
   "source": [
    "'0' stands for male and '1' for female (we have not replaced them with the words 'male' or 'female' because it is stated in Problem 5 there should be only floating-point values)."
   ]
  },
  {
   "cell_type": "code",
   "execution_count": 167,
   "id": "25c60219-f660-4711-b9c0-4c78575e53bf",
   "metadata": {},
   "outputs": [
    {
     "data": {
      "text/plain": [
       "diagnosis\n",
       "0    2268\n",
       "1     124\n",
       "Name: count, dtype: int64"
      ]
     },
     "execution_count": 167,
     "metadata": {},
     "output_type": "execute_result"
    }
   ],
   "source": [
    "asthma_data_preprocessed.diagnosis.value_counts()"
   ]
  },
  {
   "cell_type": "markdown",
   "id": "b36b1346-df8b-419b-8fa1-09edb920b9ef",
   "metadata": {},
   "source": [
    "There are not that many patients with asthma compared to the ones without."
   ]
  },
  {
   "cell_type": "code",
   "execution_count": 176,
   "id": "4cb616ac-f9a0-4db4-8abf-37e9dc493353",
   "metadata": {},
   "outputs": [
    {
     "data": {
      "image/png": "[encoded data removed]",
      "text/plain": [
       "<Figure size 640x480 with 1 Axes>"
      ]
     },
     "metadata": {},
     "output_type": "display_data"
    }
   ],
   "source": [
    "plt.hist(asthma_data_preprocessed[asthma_data_preprocessed.diagnosis == 1].age, bins = 20)\n",
    "plt.title(\"Diagnosed patients with asthma age distribution\")\n",
    "plt.xlabel(\"Age\")\n",
    "plt.ylabel(\"Count\")\n",
    "plt.show()"
   ]
  },
  {
   "cell_type": "markdown",
   "id": "beb8470b-f6fc-498a-add0-632d4d7aa519",
   "metadata": {},
   "source": [
    "There seem to be some really young patients with asthma. Anyway, excluding this fact, the distribution seems to be quite even."
   ]
  },
  {
   "cell_type": "code",
   "execution_count": 192,
   "id": "2bdec3f5-3dff-4786-9e7c-1770954077e1",
   "metadata": {},
   "outputs": [
    {
     "name": "stdout",
     "output_type": "stream",
     "text": [
      "Patients with history of family members with asthma vs Amount of them with asthma\n"
     ]
    },
    {
     "data": {
      "text/plain": [
       "(720, 37)"
      ]
     },
     "execution_count": 192,
     "metadata": {},
     "output_type": "execute_result"
    }
   ],
   "source": [
    "print(\"Patients with history of family members with asthma vs Amount of them with asthma\")\n",
    "len(\n",
    "    asthma_data_preprocessed[asthma_data_preprocessed.family_history_asthma == 1]\n",
    "), len(\n",
    "    asthma_data_preprocessed[\n",
    "    (asthma_data_preprocessed.family_history_asthma == 1)\n",
    "    &\n",
    "    (asthma_data_preprocessed.diagnosis == 1)\n",
    "    ]\n",
    ")"
   ]
  },
  {
   "cell_type": "markdown",
   "id": "c7bb20a8-f0f1-4e4d-934f-0ba983abe6bd",
   "metadata": {},
   "source": [
    "At first look, there does not seem to be connection with genes. Let's go into a bit more detail"
   ]
  },
  {
   "cell_type": "code",
   "execution_count": 201,
   "id": "00384474-687b-47db-970f-cf476a7d8215",
   "metadata": {},
   "outputs": [
    {
     "name": "stdout",
     "output_type": "stream",
     "text": [
      "% of asthma patients with history of asthma in the family vs % of asthma patients with no history\n"
     ]
    },
    {
     "data": {
      "text/plain": [
       "(29.838709677419356, 70.16129032258065)"
      ]
     },
     "execution_count": 201,
     "metadata": {},
     "output_type": "execute_result"
    }
   ],
   "source": [
    "print(\"% of asthma patients with history of asthma in the family vs % of asthma patients with no history\")\n",
    "len(\n",
    "    asthma_data_preprocessed[\n",
    "    (asthma_data_preprocessed.family_history_asthma == 1)\n",
    "    &\n",
    "    (asthma_data_preprocessed.diagnosis == 1)\n",
    "    ]\n",
    ") / 124 * 100, len(\n",
    "    asthma_data_preprocessed[\n",
    "    (asthma_data_preprocessed.family_history_asthma == 0)\n",
    "    &\n",
    "    (asthma_data_preprocessed.diagnosis == 1)\n",
    "    ]\n",
    ") / 124 * 100"
   ]
  },
  {
   "cell_type": "code",
   "execution_count": 209,
   "id": "1a949409-cc92-4a31-a6f4-e77cef79445c",
   "metadata": {},
   "outputs": [
    {
     "name": "stdout",
     "output_type": "stream",
     "text": [
      "% of observed patients with history of asthma in the family vs % of observed patients with no history\n"
     ]
    },
    {
     "data": {
      "text/plain": [
       "(30.100334448160538, 69.89966555183946)"
      ]
     },
     "execution_count": 209,
     "metadata": {},
     "output_type": "execute_result"
    }
   ],
   "source": [
    "print(\"% of observed patients with history of asthma in the family vs % of observed patients with no history\")\n",
    "len(asthma_data_preprocessed[asthma_data_preprocessed.family_history_asthma == 1]) / len(asthma_data_preprocessed) * 100, len(asthma_data_preprocessed[asthma_data_preprocessed.family_history_asthma == 0]) / len(asthma_data_preprocessed) * 100"
   ]
  },
  {
   "cell_type": "markdown",
   "id": "7c6c5aa3-cb8f-4acd-b4e7-4b7b1b017678",
   "metadata": {},
   "source": [
    "Yeah, I do not think history of family member with asthma matters"
   ]
  },
  {
   "cell_type": "code",
   "execution_count": 222,
   "id": "506e032c-418e-4f73-b22a-f73a11ab3efe",
   "metadata": {},
   "outputs": [],
   "source": [
    "asthma_data_preprocessed.to_csv(\"data/asthma_data_preprocessed.csv\", index = False)"
   ]
  }
 ],
 "metadata": {
  "kernelspec": {
   "display_name": "Python 3 (ipykernel)",
   "language": "python",
   "name": "python3"
  },
  "language_info": {
   "codemirror_mode": {
    "name": "ipython",
    "version": 3
   },
   "file_extension": ".py",
   "mimetype": "text/x-python",
   "name": "python",
   "nbconvert_exporter": "python",
   "pygments_lexer": "ipython3",
   "version": "3.11.5"
  }
 },
 "nbformat": 4,
 "nbformat_minor": 5
}
